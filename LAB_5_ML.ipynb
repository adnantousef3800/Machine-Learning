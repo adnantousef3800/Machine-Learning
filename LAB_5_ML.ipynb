{
  "nbformat": 4,
  "nbformat_minor": 0,
  "metadata": {
    "colab": {
      "provenance": []
    },
    "kernelspec": {
      "name": "python3",
      "display_name": "Python 3"
    },
    "language_info": {
      "name": "python"
    }
  },
  "cells": [
    {
      "cell_type": "code",
      "source": [
        "import pandas as pd\n",
        "\n",
        "# Load the dataset\n",
        "file_path = '/content/drive/MyDrive/climate-ds.csv'  # Replace with the actual path to your file\n",
        "data = pd.read_csv(file_path)\n",
        "\n",
        "# Display basic information about the dataset\n",
        "print(data.info())\n",
        "\n",
        "# Display the first few rows of the dataset\n",
        "print(data.head())\n"
      ],
      "metadata": {
        "colab": {
          "base_uri": "https://localhost:8080/"
        },
        "id": "zE1ad_tvut-3",
        "outputId": "70410f9c-2cf3-4347-bf1b-d6270b7a151b"
      },
      "execution_count": 1,
      "outputs": [
        {
          "output_type": "stream",
          "name": "stdout",
          "text": [
            "<class 'pandas.core.frame.DataFrame'>\n",
            "RangeIndex: 28242 entries, 0 to 28241\n",
            "Data columns (total 8 columns):\n",
            " #   Column                         Non-Null Count  Dtype  \n",
            "---  ------                         --------------  -----  \n",
            " 0   Unnamed: 0                     28242 non-null  int64  \n",
            " 1   Area                           28242 non-null  object \n",
            " 2   Item                           28242 non-null  object \n",
            " 3   Year                           28242 non-null  int64  \n",
            " 4   average_rain_fall_mm_per_year  28242 non-null  int64  \n",
            " 5   pesticides_tonnes              28242 non-null  float64\n",
            " 6   avg_temp                       28242 non-null  float64\n",
            " 7   hg/ha_yield                    28242 non-null  int64  \n",
            "dtypes: float64(2), int64(4), object(2)\n",
            "memory usage: 1.7+ MB\n",
            "None\n",
            "   Unnamed: 0     Area         Item  Year  average_rain_fall_mm_per_year  \\\n",
            "0           0  Albania        Maize  1990                           1485   \n",
            "1           1  Albania     Potatoes  1990                           1485   \n",
            "2           2  Albania  Rice, paddy  1990                           1485   \n",
            "3           3  Albania      Sorghum  1990                           1485   \n",
            "4           4  Albania     Soybeans  1990                           1485   \n",
            "\n",
            "   pesticides_tonnes  avg_temp  hg/ha_yield  \n",
            "0              121.0     16.37        36613  \n",
            "1              121.0     16.37        66667  \n",
            "2              121.0     16.37        23333  \n",
            "3              121.0     16.37        12500  \n",
            "4              121.0     16.37         7000  \n"
          ]
        }
      ]
    },
    {
      "cell_type": "code",
      "execution_count": 2,
      "metadata": {
        "id": "cvGKDxS7t_ev"
      },
      "outputs": [],
      "source": [
        "from sklearn.model_selection import train_test_split\n",
        "from sklearn.linear_model import LinearRegression\n",
        "from sklearn.metrics import mean_squared_error, r2_score, mean_absolute_percentage_error\n",
        "import numpy as np\n",
        "\n",
        "# Selecting one attribute and the target variable\n",
        "X = data[['average_rain_fall_mm_per_year']]\n",
        "y = data['hg/ha_yield']\n",
        "\n",
        "# Splitting the data into training and testing sets\n",
        "X_train, X_test, y_train, y_test = train_test_split(X, y, test_size=0.2, random_state=0)\n",
        "\n",
        "# Training the linear regression model\n",
        "reg = LinearRegression().fit(X_train, y_train)\n",
        "\n",
        "# Making predictions on the training set\n",
        "y_train_pred = reg.predict(X_train)\n",
        "\n",
        "# Making predictions on the testing set\n",
        "y_test_pred = reg.predict(X_test)\n"
      ]
    },
    {
      "cell_type": "code",
      "source": [
        "from sklearn.model_selection import train_test_split\n",
        "from sklearn.linear_model import LinearRegression\n",
        "from sklearn.metrics import mean_squared_error, mean_absolute_percentage_error, r2_score\n",
        "import numpy as np\n",
        "\n",
        "# Selecting one attribute\n",
        "X = data[['average_rain_fall_mm_per_year']]\n",
        "y = data['hg/ha_yield']\n",
        "\n",
        "# Splitting the data into train and test sets\n",
        "X_train, X_test, y_train, y_test = train_test_split(X, y, test_size=0.3, random_state=42)\n",
        "\n",
        "# Training the Linear Regression model\n",
        "reg = LinearRegression().fit(X_train, y_train)\n",
        "\n",
        "# Making predictions on the train and test sets\n",
        "y_train_pred = reg.predict(X_train)\n",
        "y_test_pred = reg.predict(X_test)\n",
        "\n",
        "# Calculating metrics for the train set\n",
        "mse_train = mean_squared_error(y_train, y_train_pred)\n",
        "rmse_train = np.sqrt(mse_train)\n",
        "mape_train = mean_absolute_percentage_error(y_train, y_train_pred)\n",
        "r2_train = r2_score(y_train, y_train_pred)\n",
        "\n",
        "# Calculating metrics for the test set\n",
        "mse_test = mean_squared_error(y_test, y_test_pred)\n",
        "rmse_test = np.sqrt(mse_test)\n",
        "mape_test = mean_absolute_percentage_error(y_test, y_test_pred)\n",
        "r2_test = r2_score(y_test, y_test_pred)\n",
        "\n",
        "print(\"Train MSE:\", mse_train)\n",
        "print(\"Train RMSE:\", rmse_train)\n",
        "print(\"Train MAPE:\", mape_train)\n",
        "print(\"Train R2:\", r2_train)\n",
        "\n",
        "print(\"Test MSE:\", mse_test)\n",
        "print(\"Test RMSE:\", rmse_test)\n",
        "print(\"Test MAPE:\", mape_test)\n",
        "print(\"Test R2:\", r2_test)\n"
      ],
      "metadata": {
        "colab": {
          "base_uri": "https://localhost:8080/"
        },
        "id": "WrjKKA1Jv-mI",
        "outputId": "47963457-c95e-4046-abd4-44a0f2ce07b3"
      },
      "execution_count": 4,
      "outputs": [
        {
          "output_type": "stream",
          "name": "stdout",
          "text": [
            "Train MSE: 7133355744.744209\n",
            "Train RMSE: 84459.19573820372\n",
            "Train MAPE: 2.7597954376806784\n",
            "Train R2: 5.819665521400452e-05\n",
            "Test MSE: 7414555975.03856\n",
            "Test RMSE: 86107.81599273413\n",
            "Test MAPE: 2.574483986729407\n",
            "Test R2: -0.0003249768605686487\n"
          ]
        }
      ]
    },
    {
      "cell_type": "code",
      "source": [
        "# Calculating metrics for the training set\n",
        "mse_train = mean_squared_error(y_train, y_train_pred)\n",
        "rmse_train = np.sqrt(mse_train)\n",
        "mape_train = mean_absolute_percentage_error(y_train, y_train_pred)\n",
        "r2_train = r2_score(y_train, y_train_pred)\n",
        "\n",
        "# Calculating metrics for the testing set\n",
        "mse_test = mean_squared_error(y_test, y_test_pred)\n",
        "rmse_test = np.sqrt(mse_test)\n",
        "mape_test = mean_absolute_percentage_error(y_test, y_test_pred)\n",
        "r2_test = r2_score(y_test, y_test_pred)\n",
        "\n",
        "print(f\"Training Set Metrics:\\nMSE: {mse_train}, RMSE: {rmse_train}, MAPE: {mape_train}, R2: {r2_train}\")\n",
        "print(f\"Testing Set Metrics:\\nMSE: {mse_test}, RMSE: {rmse_test}, MAPE: {mape_test}, R2: {r2_test}\")\n"
      ],
      "metadata": {
        "colab": {
          "base_uri": "https://localhost:8080/"
        },
        "id": "iCwPA6ixwOBd",
        "outputId": "c092906f-f94d-4b10-f6e7-1d27d3fb856a"
      },
      "execution_count": 5,
      "outputs": [
        {
          "output_type": "stream",
          "name": "stdout",
          "text": [
            "Training Set Metrics:\n",
            "MSE: 7133355744.744209, RMSE: 84459.19573820372, MAPE: 2.7597954376806784, R2: 5.819665521400452e-05\n",
            "Testing Set Metrics:\n",
            "MSE: 7414555975.03856, RMSE: 86107.81599273413, MAPE: 2.574483986729407, R2: -0.0003249768605686487\n"
          ]
        }
      ]
    },
    {
      "cell_type": "code",
      "source": [
        "# Selecting multiple attributes for the model\n",
        "X_multi = data[['average_rain_fall_mm_per_year', 'pesticides_tonnes', 'avg_temp']]\n",
        "y_multi = data['hg/ha_yield']\n",
        "\n",
        "# Splitting the data into train and test sets\n",
        "X_train_multi, X_test_multi, y_train_multi, y_test_multi = train_test_split(X_multi, y_multi, test_size=0.3, random_state=42)\n",
        "\n",
        "# Training the Linear Regression model\n",
        "reg_multi = LinearRegression().fit(X_train_multi, y_train_multi)\n",
        "\n",
        "# Making predictions on the train and test sets\n",
        "y_train_pred_multi = reg_multi.predict(X_train_multi)\n",
        "y_test_pred_multi = reg_multi.predict(X_test_multi)\n",
        "\n",
        "# Calculating metrics for the train set\n",
        "mse_train_multi = mean_squared_error(y_train_multi, y_train_pred_multi)\n",
        "rmse_train_multi = np.sqrt(mse_train_multi)\n",
        "mape_train_multi = mean_absolute_percentage_error(y_train_multi, y_train_pred_multi)\n",
        "r2_train_multi = r2_score(y_train_multi, y_train_pred_multi)\n",
        "\n",
        "# Calculating metrics for the test set\n",
        "mse_test_multi = mean_squared_error(y_test_multi, y_test_pred_multi)\n",
        "rmse_test_multi = np.sqrt(mse_test_multi)\n",
        "mape_test_multi = mean_absolute_percentage_error(y_test_multi, y_test_pred_multi)\n",
        "r2_test_multi = r2_score(y_test_multi, y_test_pred_multi)\n",
        "\n",
        "print(\"Train MSE:\", mse_train_multi)\n",
        "print(\"Train RMSE:\", rmse_train_multi)\n",
        "print(\"Train MAPE:\", mape_train_multi)\n",
        "print(\"Train R2:\", r2_train_multi)\n",
        "\n",
        "print(\"Test MSE:\", mse_test_multi)\n",
        "print(\"Test RMSE:\", rmse_test_multi)\n",
        "print(\"Test MAPE:\", mape_test_multi)\n",
        "print(\"Test R2:\", r2_test_multi)\n"
      ],
      "metadata": {
        "colab": {
          "base_uri": "https://localhost:8080/"
        },
        "id": "vUyALCO2wSHI",
        "outputId": "99c1d860-1ceb-417b-da3a-aad767b7dd37"
      },
      "execution_count": 9,
      "outputs": [
        {
          "output_type": "stream",
          "name": "stdout",
          "text": [
            "Train MSE: 7009667241.82564\n",
            "Train RMSE: 83723.75554062084\n",
            "Train MAPE: 2.708184358812498\n",
            "Train R2: 0.017396642834985654\n",
            "Test MSE: 7259787159.482684\n",
            "Test RMSE: 85204.3846259257\n",
            "Test MAPE: 2.5053767208118645\n",
            "Test R2: 0.020555452441047617\n"
          ]
        }
      ]
    },
    {
      "cell_type": "code",
      "source": [
        "from sklearn.cluster import KMeans\n",
        "\n",
        "# Selecting features for clustering (excluding the target variable)\n",
        "X = data[['average_rain_fall_mm_per_year', 'pesticides_tonnes', 'avg_temp']]\n",
        "\n",
        "# Performing k-means clustering\n",
        "kmeans = KMeans(n_clusters=2, random_state=0, n_init=\"auto\").fit(X)\n",
        "\n",
        "# Cluster labels and cluster centers\n",
        "labels = kmeans.labels_\n",
        "centers = kmeans.cluster_centers_\n",
        "\n",
        "print(f\"Cluster Labels:\\n{labels}\")\n",
        "print(f\"Cluster Centers:\\n{centers}\")\n"
      ],
      "metadata": {
        "colab": {
          "base_uri": "https://localhost:8080/"
        },
        "id": "5Cn0VMNXwa24",
        "outputId": "a6ae9b47-f838-4ed2-8ca8-0727f39055cd"
      },
      "execution_count": 7,
      "outputs": [
        {
          "output_type": "stream",
          "name": "stdout",
          "text": [
            "Cluster Labels:\n",
            "[0 0 0 ... 0 0 0]\n",
            "Cluster Centers:\n",
            "[[1.12714029e+03 2.72951239e+04 2.04653595e+01]\n",
            " [1.74239165e+03 3.01904651e+05 2.26345229e+01]]\n"
          ]
        }
      ]
    }
  ]
}