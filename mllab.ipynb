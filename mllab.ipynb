{
 "cells": [
  {
   "cell_type": "code",
   "execution_count": 1,
   "id": "6898bae1",
   "metadata": {},
   "outputs": [
    {
     "name": "stdout",
     "output_type": "stream",
     "text": [
      "Number of pairs with sum equal to 10 is: 2\n"
     ]
    }
   ],
   "source": [
    "def count_pairs_with_sum(lst, target_sum):\n",
    "    seen = set()\n",
    "    counted_pairs = set()\n",
    "    pair_count = 0\n",
    "\n",
    "    for number in lst:\n",
    "        complement = target_sum - number\n",
    "        \n",
    "        if complement in seen:\n",
    "            pair = tuple(sorted((number, complement)))\n",
    "            if pair not in counted_pairs:\n",
    "                pair_count += 1\n",
    "                counted_pairs.add(pair)\n",
    "        \n",
    "        seen.add(number)\n",
    "    \n",
    "    return pair_count\n",
    "\n",
    "numbers = [2, 7, 4, 1, 3, 6]\n",
    "target_sum = 10\n",
    "\n",
    "print(\"Number of pairs with sum equal to\", target_sum, \"is:\", count_pairs_with_sum(numbers, target_sum))\n",
    "\n"
   ]
  },
  {
   "cell_type": "code",
   "execution_count": 3,
   "id": "ee0da61c",
   "metadata": {},
   "outputs": [
    {
     "name": "stdout",
     "output_type": "stream",
     "text": [
      "The range is: 8\n"
     ]
    }
   ],
   "source": [
    "def calculate_range(numbers):\n",
    "    if len(numbers) < 3:\n",
    "        return \"Range determination not possible\"\n",
    "    \n",
    "    min_value = min(numbers)\n",
    "    max_value = max(numbers)\n",
    "    range_value = max_value - min_value\n",
    "    \n",
    "    return range_value\n",
    "\n",
    "numbers = [5, 3, 8, 1, 0, 4]\n",
    "\n",
    "result = calculate_range(numbers)\n",
    "print(\"The range is:\", result)\n"
   ]
  },
  {
   "cell_type": "code",
   "execution_count": 5,
   "id": "844c7cb3",
   "metadata": {},
   "outputs": [
    {
     "name": "stdout",
     "output_type": "stream",
     "text": [
      "A^m is:\n",
      "[[ 37  54]\n",
      " [ 81 118]]\n"
     ]
    }
   ],
   "source": [
    "import numpy as np\n",
    "\n",
    "def matrix_power(A, m):\n",
    "    A = np.array(A)\n",
    "    \n",
    "    rows, cols = A.shape\n",
    "    if rows != cols:\n",
    "        raise ValueError(\"The matrix must be square.\")\n",
    "    \n",
    "    if not isinstance(m, int) or m <= 0:\n",
    "        raise ValueError(\"The exponent m must be a positive integer.\")\n",
    "    \n",
    "    result = np.linalg.matrix_power(A, m)\n",
    "    \n",
    "    return result\n",
    "\n",
    "A = [[1, 2], [3, 4]]\n",
    "m = 3\n",
    "\n",
    "try:\n",
    "    result = matrix_power(A, m)\n",
    "    print(\"A^m is:\")\n",
    "    print(result)\n",
    "except ValueError as e:\n",
    "    print(e)\n"
   ]
  },
  {
   "cell_type": "code",
   "execution_count": 6,
   "id": "0a20fd7f",
   "metadata": {},
   "outputs": [
    {
     "name": "stdout",
     "output_type": "stream",
     "text": [
      "The maximally occurring character is 'p' and its occurrence count is 3.\n"
     ]
    }
   ],
   "source": [
    "from collections import Counter\n",
    "\n",
    "def highest_occurring_character(input_string):\n",
    "    filtered_string = ''.join(char.lower() for char in input_string if char.isalpha())\n",
    "    \n",
    "    if not filtered_string:\n",
    "        return \"No alphabetic characters in the input string.\"\n",
    "    \n",
    "    char_count = Counter(filtered_string)\n",
    "    \n",
    "    most_common_char, most_common_count = char_count.most_common(1)[0]\n",
    "    \n",
    "    return most_common_char, most_common_count\n",
    "\n",
    "input_string = \"hippopotamus\"\n",
    "\n",
    "char, count = highest_occurring_character(input_string)\n",
    "print(f\"The maximally occurring character is '{char}' and its occurrence count is {count}.\")\n"
   ]
  },
  {
   "cell_type": "code",
   "execution_count": null,
   "id": "a76ea50b",
   "metadata": {},
   "outputs": [],
   "source": []
  }
 ],
 "metadata": {
  "kernelspec": {
   "display_name": "Python 3 (ipykernel)",
   "language": "python",
   "name": "python3"
  },
  "language_info": {
   "codemirror_mode": {
    "name": "ipython",
    "version": 3
   },
   "file_extension": ".py",
   "mimetype": "text/x-python",
   "name": "python",
   "nbconvert_exporter": "python",
   "pygments_lexer": "ipython3",
   "version": "3.11.4"
  }
 },
 "nbformat": 4,
 "nbformat_minor": 5
}
